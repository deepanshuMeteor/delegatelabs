{
 "cells": [
  {
   "cell_type": "markdown",
   "metadata": {
    "slideshow": {
     "slide_type": "slide"
    }
   },
   "source": [
    "# Introduction to Graph Theory & Network Science\n",
    "\n",
    "## 1 Graph Theory & Graph Visualization\n",
    "### 1.1 Graph Terminology & Examples"
   ]
  },
  {
   "cell_type": "markdown",
   "metadata": {
    "slideshow": {
     "slide_type": "slide"
    }
   },
   "source": [
    "### Learning Aims\n",
    "* What is a graph?\n",
    "* Basic terminology \n",
    "    * nodes, edges, weights, degree, directed vs undirected\n",
    "* Graph representations \n",
    "    * node-link, edge lists, matrices\n",
    "\n",
    "### Learning Objectives\n",
    "* Build and examine a graph in NetworkX \n",
    "    * from basic edge lists\n",
    "    * including: edge weights node info, and different node types.\n",
    "* Use NetworkX to construct graphs from a given sample data set \n",
    "* Obtain information from graphs using NetworkX functions\n",
    "* Use NetworkX and Matplotlib to visualise graphs.\n",
    "    * given a graph, produce a variety of output images demonstrating various layouts and levels of labelling\n"
   ]
  },
  {
   "cell_type": "markdown",
   "metadata": {
    "slideshow": {
     "slide_type": "slide"
    }
   },
   "source": [
    "## What is a Graph?\n",
    "\n",
    "Relationships beteween nodes, $g$\n",
    "\n",
    "In typical data analysis *rows* (observations, examples) are analysed in terms of the columns (features, fields, attributes) of which they are composed.\n",
    "\n",
    "In network analysis *rows* (or \"nodes\") are analysed in terms of their relationships to other *rows* (\"nodes\"). The transition to the analysis of networks therefore requires a totally different way of thinking. \n",
    "\n",
    "In the world of networks the *relationships* are more important than the attributes of the individuals. \n",
    "    "
   ]
  },
  {
   "cell_type": "markdown",
   "metadata": {
    "slideshow": {
     "slide_type": "slide"
    }
   },
   "source": [
    "### Essentials\n",
    "* Nodes, $n$\n",
    "    * eg., $n = \\{Alice, Eve, Bob\\}$\n",
    "    * Size of network = number of nodes, $N$\n",
    "* Edges, $e$\n",
    "    * eg., $e_1 = (Alice, Bob), e_2 = (Alice, Eve)$\n",
    "    * Number of edge, $E$        \n",
    "    * $(u, v)$ is an edge from $u$ to $v$\n",
    "* Weights, $w$ (on Edges)\n",
    "    * $e_1 = (Alice, Bob, 0.5)$\n",
    "    * $(u, v, w)$\n",
    "* Graph, $G$\n",
    "    * Graph = Nodes & Relationships\n",
    "    * $G = (n, g)$\n",
    "    * If we store the relationships as lists of edges...\n",
    "        * $g =  \\{e_1, e_2, \\dots\\} = \\{(u, v), \\dots\\} $\n",
    "        * $G = (\\{Alice, Eve, Bob\\}, \\, \\{(Alice, Bob), (Alice, Eve)\\}$\n",
    "        \n",
    "      "
   ]
  },
  {
   "cell_type": "markdown",
   "metadata": {
    "slideshow": {
     "slide_type": "slide"
    }
   },
   "source": [
    "  \n",
    "### Structure\n",
    "* Undirected Edges\n",
    "    * $u \\leftrightarrow v$\n",
    "    * eg., `Knows`: $Alice \\leftrightarrow Eve$ \n",
    "* Directed Edges\n",
    "    * $u \\rightarrow v$\n",
    "    * eg., `Likes:` $Alice \\rightarrow Eve$ \n",
    "* Neighbors, $G_u$\n",
    "    * nodes connected to $u$, eg., $\\{n_1, n_2, n_3\\}$\n",
    "    * eg., $G_{Alice} = \\{Bob, Eve\\}$ "
   ]
  },
  {
   "cell_type": "markdown",
   "metadata": {
    "slideshow": {
     "slide_type": "slide"
    }
   },
   "source": [
    "## Types of Graph\n",
    "\n",
    "### Unidirected Graphs\n",
    "\n",
    "<img src=\"assets/graph-undirected.png\" width=\"300px\" />"
   ]
  },
  {
   "cell_type": "markdown",
   "metadata": {
    "slideshow": {
     "slide_type": "fragment"
    }
   },
   "source": [
    "\n",
    "\n",
    "An undirected graph is a graph in which edges have no orientation. The edge $(u, v)$ is identical to the edge $(v, u)$. \n",
    "\n",
    "In the graph above, the nodes could represent cities and an edge could represent a bidirectional road.\n"
   ]
  },
  {
   "cell_type": "markdown",
   "metadata": {
    "slideshow": {
     "slide_type": "slide"
    }
   },
   "source": [
    "\n",
    "\n",
    "### Directed Graphs\n",
    "\n",
    "<img src=\"assets/graph-directed.png\" width=\"300px\" />"
   ]
  },
  {
   "cell_type": "markdown",
   "metadata": {
    "slideshow": {
     "slide_type": "skip"
    }
   },
   "source": [
    "\n",
    "\n",
    "\n",
    "A directed graph or digraph is a graph in which edges have orientations. For example, the edge $(u, v)$ is the edge from node $u$ to node $v$.\n",
    "\n",
    "\n",
    "In the graph above, the nodes could represent people and an edge $(u, v)$ could represent that person $u$ bought person $v$ a gift.\n",
    "\n",
    "\n"
   ]
  },
  {
   "cell_type": "markdown",
   "metadata": {
    "slideshow": {
     "slide_type": "slide"
    }
   },
   "source": [
    "### Weighted Graphs\n",
    "\n",
    "<img src=\"assets/graph-weighted.png\" width=\"300px\" />\n"
   ]
  },
  {
   "cell_type": "markdown",
   "metadata": {
    "slideshow": {
     "slide_type": "fragment"
    }
   },
   "source": [
    "\n",
    "\n",
    "Many graphs can have edges that contain a certain weight to represent an arbitrary value such as cost, distance, quantity, etc…\n",
    "\n",
    "A weighted-edge is usally denoted by a triplet $(u, v, w)$.\n"
   ]
  },
  {
   "cell_type": "markdown",
   "metadata": {
    "slideshow": {
     "slide_type": "slide"
    }
   },
   "source": [
    "## Examples\n",
    "\n",
    "#### Consider\n",
    "* Nodes\n",
    "* Node Classes (Types)\n",
    "* Undirected Edges\n",
    "* Directed Edges\n",
    "* Paths \n",
    "* Weights\n",
    "* Clusters (Grouping)\n",
    "* Node Centrality (Size)"
   ]
  },
  {
   "cell_type": "markdown",
   "metadata": {
    "slideshow": {
     "slide_type": "slide"
    }
   },
   "source": [
    "### Social Networks"
   ]
  },
  {
   "cell_type": "markdown",
   "metadata": {
    "slideshow": {
     "slide_type": "fragment"
    }
   },
   "source": [
    "<img src=\"assets/fb-nothwestern-uni.png\" width=\"350px\"/>"
   ]
  },
  {
   "cell_type": "markdown",
   "metadata": {
    "slideshow": {
     "slide_type": "fragment"
    }
   },
   "source": [
    "#### Facebook Users at Northwestern University\n",
    "\n",
    "* Nodes\n",
    "* Node Classes (Types)\n",
    "* Undirected Edges\n",
    "* Directed Edges\n",
    "* Paths \n",
    "* Weights\n",
    "* Clusters (Grouping)\n",
    "* Node Centrality (Size)"
   ]
  },
  {
   "cell_type": "markdown",
   "metadata": {
    "slideshow": {
     "slide_type": "slide"
    }
   },
   "source": [
    "<img src=\"assets/film-actor.png\"  width=\"500px\"/>"
   ]
  },
  {
   "cell_type": "markdown",
   "metadata": {
    "slideshow": {
     "slide_type": "fragment"
    }
   },
   "source": [
    "#### Film-Actor Network via IMDB\n",
    "* Nodes\n",
    "* Node Classes (Types)\n",
    "* Undirected Edges\n",
    "* Directed Edges\n",
    "* Paths \n",
    "* Weights\n",
    "* Clusters (Grouping)\n",
    "* Node Centrality (Size)"
   ]
  },
  {
   "cell_type": "markdown",
   "metadata": {
    "slideshow": {
     "slide_type": "slide"
    }
   },
   "source": [
    "<img src=\"assets/twitter-us2010election.png\"  width=\"350px\"/>"
   ]
  },
  {
   "cell_type": "markdown",
   "metadata": {
    "slideshow": {
     "slide_type": "fragment"
    }
   },
   "source": [
    "#### Tweets in the US 2010 Election \n",
    "\n",
    "* Nodes\n",
    "* Node Classes (Types)\n",
    "* Undirected Edges\n",
    "* Directed Edges\n",
    "* Paths \n",
    "* Weights\n",
    "* Clusters (Grouping)\n",
    "* Node Centrality (Size)"
   ]
  },
  {
   "cell_type": "markdown",
   "metadata": {
    "slideshow": {
     "slide_type": "slide"
    }
   },
   "source": [
    "### Transportation Networks"
   ]
  },
  {
   "cell_type": "markdown",
   "metadata": {
    "slideshow": {
     "slide_type": "fragment"
    }
   },
   "source": [
    "<img src=\"assets/us-air.png\"  width=\"350px\"/>"
   ]
  },
  {
   "cell_type": "markdown",
   "metadata": {
    "slideshow": {
     "slide_type": "fragment"
    }
   },
   "source": [
    "#### US Air Transport Network\n",
    "* Nodes\n",
    "* Node Classes (Types)\n",
    "* Undirected Edges\n",
    "* Directed Edges\n",
    "* Paths \n",
    "* Weights\n",
    "* Clusters (Grouping)\n",
    "* Node Centrality (Size)"
   ]
  },
  {
   "cell_type": "markdown",
   "metadata": {
    "slideshow": {
     "slide_type": "slide"
    }
   },
   "source": [
    "\n",
    "### Biological Networks\n",
    "<img src=\"assets/connectome-roundworm.png\"  width=\"350px\"/>"
   ]
  },
  {
   "cell_type": "markdown",
   "metadata": {
    "slideshow": {
     "slide_type": "fragment"
    }
   },
   "source": [
    "#### Connectome of a Roundworm\n",
    "* Nodes\n",
    "* Node Classes (Types)\n",
    "* Undirected Edges\n",
    "* Directed Edges\n",
    "* Paths \n",
    "* Weights\n",
    "* Clusters (Grouping)\n",
    "* Node Centrality (Size)\n"
   ]
  },
  {
   "cell_type": "code",
   "execution_count": null,
   "metadata": {},
   "outputs": [],
   "source": []
  },
  {
   "cell_type": "markdown",
   "metadata": {
    "slideshow": {
     "slide_type": "slide"
    }
   },
   "source": [
    "## Exercise\n",
    "\n",
    "* Compete the descriptions of the networks above:\n",
    "    * What do you think a node, edge, weight *could* represent?\n",
    "    * What does the node centrality (size, importance) represent?\n",
    "    * What would a path describe?\n",
    "    * What would cause clustering?\n",
    "    "
   ]
  }
 ],
 "metadata": {
  "kernelspec": {
   "display_name": "Python 3 (ipykernel)",
   "language": "python",
   "name": "python3"
  },
  "language_info": {
   "codemirror_mode": {
    "name": "ipython",
    "version": 3
   },
   "file_extension": ".py",
   "mimetype": "text/x-python",
   "name": "python",
   "nbconvert_exporter": "python",
   "pygments_lexer": "ipython3",
   "version": "3.9.7"
  }
 },
 "nbformat": 4,
 "nbformat_minor": 4
}
