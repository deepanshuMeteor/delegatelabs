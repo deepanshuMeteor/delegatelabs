{
 "cells": [
  {
   "cell_type": "markdown",
   "metadata": {},
   "source": [
    "# Introduction to Python \n",
    "### Notes 1.1, Introduction to Decision-Making \n",
    "---\n",
    "\n",
    "## Objectives\n",
    "\n",
    "---"
   ]
  },
  {
   "cell_type": "markdown",
   "metadata": {},
   "source": [
    "## What sorts of decisions do I need to make in a program?\n",
    "\n",
    "* avoding and handling errors\n",
    "* validating, checking, responding to user input\n",
    "* implementing business rule"
   ]
  },
  {
   "cell_type": "markdown",
   "metadata": {},
   "source": [
    "## How do I avoid errors by testings collections for membership?"
   ]
  },
  {
   "cell_type": "markdown",
   "metadata": {},
   "source": [
    "The `in` keyword tests a collection for containing an element.\n",
    "\n",
    "* `k in d` is there are key `k` in dictionary `d`?\n",
    "* `e in l` is there a element `e` in list `l`?\n",
    "\n",
    "\n",
    "If we have a dictionary, we're testing if a key is present; if we have a list, just if some element is present. "
   ]
  },
  {
   "cell_type": "code",
   "execution_count": 3,
   "metadata": {},
   "outputs": [],
   "source": [
    "warning_messages = {\n",
    "    180: \"WARNING!\",\n",
    "    120: \"OK\",\n",
    "    60 : \"WARNING!\"\n",
    "}"
   ]
  },
  {
   "cell_type": "code",
   "execution_count": 5,
   "metadata": {},
   "outputs": [
    {
     "name": "stdout",
     "output_type": "stream",
     "text": [
      "What's your BP?90\n"
     ]
    },
    {
     "ename": "KeyError",
     "evalue": "90.0",
     "output_type": "error",
     "traceback": [
      "\u001b[0;31m--------------------------------------------------------\u001b[0m",
      "\u001b[0;31mKeyError\u001b[0m               Traceback (most recent call last)",
      "\u001b[0;32m<ipython-input-5-8dca0a9cbaf4>\u001b[0m in \u001b[0;36m<module>\u001b[0;34m\u001b[0m\n\u001b[1;32m      1\u001b[0m \u001b[0muser_bp\u001b[0m \u001b[0;34m=\u001b[0m \u001b[0mfloat\u001b[0m\u001b[0;34m(\u001b[0m\u001b[0minput\u001b[0m\u001b[0;34m(\u001b[0m\u001b[0;34m\"What's your BP?\"\u001b[0m\u001b[0;34m)\u001b[0m\u001b[0;34m)\u001b[0m\u001b[0;34m\u001b[0m\u001b[0;34m\u001b[0m\u001b[0m\n\u001b[1;32m      2\u001b[0m \u001b[0;34m\u001b[0m\u001b[0m\n\u001b[0;32m----> 3\u001b[0;31m \u001b[0mprint\u001b[0m\u001b[0;34m(\u001b[0m\u001b[0mwarning_messages\u001b[0m\u001b[0;34m[\u001b[0m\u001b[0muser_bp\u001b[0m\u001b[0;34m]\u001b[0m\u001b[0;34m)\u001b[0m\u001b[0;34m\u001b[0m\u001b[0;34m\u001b[0m\u001b[0m\n\u001b[0m",
      "\u001b[0;31mKeyError\u001b[0m: 90.0"
     ]
    }
   ],
   "source": [
    "user_bp = float(input(\"What's your BP?\"))\n",
    "\n",
    "print(warning_messages[user_bp])"
   ]
  },
  {
   "cell_type": "code",
   "execution_count": 7,
   "metadata": {},
   "outputs": [
    {
     "name": "stdout",
     "output_type": "stream",
     "text": [
      "What's your BP?60\n",
      "WARNING!\n"
     ]
    }
   ],
   "source": [
    "user_bp = float(input(\"What's your BP?\"))\n",
    "\n",
    "if user_bp in warning_messages:\n",
    "    print(warning_messages[user_bp])\n",
    "else:\n",
    "    print(\"we have no reference for this blood pressure!\")"
   ]
  },
  {
   "cell_type": "markdown",
   "metadata": {},
   "source": [
    "## How do I make decisions in python?"
   ]
  },
  {
   "cell_type": "markdown",
   "metadata": {},
   "source": [
    "To use the keywords `if, elif, else` along with comparisons. "
   ]
  },
  {
   "cell_type": "code",
   "execution_count": 11,
   "metadata": {},
   "outputs": [
    {
     "name": "stdout",
     "output_type": "stream",
     "text": [
      "What's your BP?191\n",
      "191.0\n",
      "WARNING: Too High!\n"
     ]
    }
   ],
   "source": [
    "user_bp = float(input(\"What's your BP?\"))\n",
    "\n",
    "if user_bp >= 180:\n",
    "    print(user_bp)\n",
    "    print(\"WARNING: Too High!\")\n",
    "elif user_bp <= 60:\n",
    "    print(\"WARNING: Too Low!\")\n",
    "else:\n",
    "    print(\"OK\")"
   ]
  },
  {
   "cell_type": "markdown",
   "metadata": {},
   "source": [
    "By *indenting* code in python, we group it together. Above, *the first indented region* which has  a `True` test, is executed. No others are.\n",
    "\n",
    "If no tests are `True` then `else` is executed. "
   ]
  },
  {
   "cell_type": "markdown",
   "metadata": {},
   "source": [
    "## How do I compare data values?"
   ]
  },
  {
   "cell_type": "code",
   "execution_count": 55,
   "metadata": {},
   "outputs": [],
   "source": [
    "michael_bp = 175\n",
    "alice_bp = 175\n",
    "eve_bp = 140"
   ]
  },
  {
   "cell_type": "markdown",
   "metadata": {},
   "source": [
    "Equality"
   ]
  },
  {
   "cell_type": "code",
   "execution_count": 56,
   "metadata": {},
   "outputs": [
    {
     "data": {
      "text/plain": [
       "True"
      ]
     },
     "execution_count": 56,
     "metadata": {},
     "output_type": "execute_result"
    }
   ],
   "source": [
    "michael_bp == alice_bp"
   ]
  },
  {
   "cell_type": "markdown",
   "metadata": {},
   "source": [
    "Inequality"
   ]
  },
  {
   "cell_type": "code",
   "execution_count": 57,
   "metadata": {},
   "outputs": [
    {
     "data": {
      "text/plain": [
       "False"
      ]
     },
     "execution_count": 57,
     "metadata": {},
     "output_type": "execute_result"
    }
   ],
   "source": [
    "michael_bp != alice_bp"
   ]
  },
  {
   "cell_type": "code",
   "execution_count": 58,
   "metadata": {},
   "outputs": [
    {
     "data": {
      "text/plain": [
       "True"
      ]
     },
     "execution_count": 58,
     "metadata": {},
     "output_type": "execute_result"
    }
   ],
   "source": [
    "michael_bp != eve_bp"
   ]
  },
  {
   "cell_type": "markdown",
   "metadata": {},
   "source": [
    "Greater than or equal to"
   ]
  },
  {
   "cell_type": "code",
   "execution_count": 59,
   "metadata": {},
   "outputs": [
    {
     "data": {
      "text/plain": [
       "True"
      ]
     },
     "execution_count": 59,
     "metadata": {},
     "output_type": "execute_result"
    }
   ],
   "source": [
    "michael_bp >= eve_bp"
   ]
  },
  {
   "cell_type": "markdown",
   "metadata": {},
   "source": [
    "## How do I test strings?"
   ]
  },
  {
   "cell_type": "code",
   "execution_count": 60,
   "metadata": {},
   "outputs": [],
   "source": [
    "message = \"WARNING: Too High!\""
   ]
  },
  {
   "cell_type": "code",
   "execution_count": 61,
   "metadata": {},
   "outputs": [
    {
     "data": {
      "text/plain": [
       "True"
      ]
     },
     "execution_count": 61,
     "metadata": {},
     "output_type": "execute_result"
    }
   ],
   "source": [
    "message.startswith(\"WARNING\")"
   ]
  },
  {
   "cell_type": "code",
   "execution_count": 62,
   "metadata": {},
   "outputs": [
    {
     "data": {
      "text/plain": [
       "False"
      ]
     },
     "execution_count": 62,
     "metadata": {},
     "output_type": "execute_result"
    }
   ],
   "source": [
    "message.endswith(\"Low!\")"
   ]
  },
  {
   "cell_type": "code",
   "execution_count": 63,
   "metadata": {},
   "outputs": [
    {
     "data": {
      "text/plain": [
       "True"
      ]
     },
     "execution_count": 63,
     "metadata": {},
     "output_type": "execute_result"
    }
   ],
   "source": [
    "\"WARNING\" in message"
   ]
  },
  {
   "cell_type": "markdown",
   "metadata": {},
   "source": [
    "## How do I logically combine comparisons?"
   ]
  },
  {
   "cell_type": "markdown",
   "metadata": {},
   "source": [
    "#### `and`\n",
    "\n",
    "Are *both* conditions true?"
   ]
  },
  {
   "cell_type": "code",
   "execution_count": 64,
   "metadata": {
    "scrolled": true
   },
   "outputs": [
    {
     "data": {
      "text/plain": [
       "True"
      ]
     },
     "execution_count": 64,
     "metadata": {},
     "output_type": "execute_result"
    }
   ],
   "source": [
    "(\"WARNING\" in message) and (michael_bp >= eve_bp)"
   ]
  },
  {
   "cell_type": "code",
   "execution_count": 65,
   "metadata": {},
   "outputs": [],
   "source": [
    "safe_max = 150\n",
    "safe_min = 80"
   ]
  },
  {
   "cell_type": "markdown",
   "metadata": {},
   "source": [
    "#### `or`\n",
    "\n",
    "Is *either* condition `True` ?"
   ]
  },
  {
   "cell_type": "code",
   "execution_count": 68,
   "metadata": {},
   "outputs": [
    {
     "data": {
      "text/plain": [
       "False"
      ]
     },
     "execution_count": 68,
     "metadata": {},
     "output_type": "execute_result"
    }
   ],
   "source": [
    "michael_bp < safe_max"
   ]
  },
  {
   "cell_type": "code",
   "execution_count": 67,
   "metadata": {
    "scrolled": true
   },
   "outputs": [
    {
     "data": {
      "text/plain": [
       "True"
      ]
     },
     "execution_count": 67,
     "metadata": {},
     "output_type": "execute_result"
    }
   ],
   "source": [
    "eve_bp < safe_max"
   ]
  },
  {
   "cell_type": "code",
   "execution_count": 69,
   "metadata": {},
   "outputs": [
    {
     "data": {
      "text/plain": [
       "True"
      ]
     },
     "execution_count": 69,
     "metadata": {},
     "output_type": "execute_result"
    }
   ],
   "source": [
    "(eve_bp < safe_max) or (michael_bp < safe_max)"
   ]
  },
  {
   "cell_type": "markdown",
   "metadata": {},
   "source": [
    "#### `not`\n",
    "\n",
    "Isn't the condition `True`?"
   ]
  },
  {
   "cell_type": "code",
   "execution_count": 70,
   "metadata": {},
   "outputs": [
    {
     "data": {
      "text/plain": [
       "False"
      ]
     },
     "execution_count": 70,
     "metadata": {},
     "output_type": "execute_result"
    }
   ],
   "source": [
    "not (\"WARNING\" in message)"
   ]
  },
  {
   "cell_type": "markdown",
   "metadata": {},
   "source": [
    "... sometimes python let's you place `not` in the middle of a condition because it reads better.."
   ]
  },
  {
   "cell_type": "code",
   "execution_count": 71,
   "metadata": {},
   "outputs": [
    {
     "data": {
      "text/plain": [
       "False"
      ]
     },
     "execution_count": 71,
     "metadata": {},
     "output_type": "execute_result"
    }
   ],
   "source": [
    "\"WARNING\" not in message"
   ]
  },
  {
   "cell_type": "markdown",
   "metadata": {},
   "source": [
    "## How do I use complex conditions to make decisions?"
   ]
  },
  {
   "cell_type": "code",
   "execution_count": 72,
   "metadata": {},
   "outputs": [
    {
     "name": "stdout",
     "output_type": "stream",
     "text": [
      "GO TO HOSPITAL\n"
     ]
    }
   ],
   "source": [
    "if (\"WARNING\" in message) and (michael_bp > safe_max):\n",
    "    print(\"GO TO HOSPITAL\")\n",
    "else:\n",
    "    print(\"STAY AT HOME\")"
   ]
  },
  {
   "cell_type": "markdown",
   "metadata": {},
   "source": [
    "## Exercise (20min)"
   ]
  },
  {
   "cell_type": "markdown",
   "metadata": {},
   "source": [
    "(review notes)\n",
    "\n",
    "\n",
    "Your goal in this exercise is to simualte tracking health data for a user, and provide them with a custom health warning message if there are any issues with their health data. \n",
    "\n",
    "#### Part 1\n",
    "Ask the user for a single HR and BP reading. \n",
    "\n",
    "Report a warning based on where *both* of these values fall. \n",
    "\n",
    "* bad signs\n",
    "    * HR > 200 \n",
    "    * BP > 200 \n",
    "    * HR > 150, BP > 170 \n",
    "    * come up with your own conditions for the low warnings range\n",
    "\n",
    "\n",
    "#### Part 2\n",
    "Ask the user how they are feeling. Offer the user some advice on their mental health. \n",
    "\n",
    "* bad signs\n",
    "    * does the response contain \"sad\"\n",
    "    * does it end with \"!?\"\n",
    "* good signs\n",
    "    * does it contain \"happy\"\n",
    "    * does it end with \"!\""
   ]
  },
  {
   "cell_type": "markdown",
   "metadata": {},
   "source": [
    "## Solution"
   ]
  },
  {
   "cell_type": "code",
   "execution_count": 74,
   "metadata": {},
   "outputs": [
    {
     "name": "stdout",
     "output_type": "stream",
     "text": [
      "BP?0459\n",
      "HR?4059\n",
      "WARNING\n"
     ]
    }
   ],
   "source": [
    "bp = float(input(\"BP?\"))\n",
    "hr = float(input(\"HR?\"))\n",
    "\n",
    "if (bp > 200) or (hr > 200):\n",
    "    print(\"WARNING\")\n",
    "elif (bp > 150) and (hr > 170):\n",
    "    print(\"WARNING\")\n",
    "elif (bp < 100) and (hr < 40):\n",
    "    print(\"WARNING\")\n",
    "else:\n",
    "    print(\"OK!\")"
   ]
  },
  {
   "cell_type": "code",
   "execution_count": 77,
   "metadata": {},
   "outputs": [
    {
     "name": "stdout",
     "output_type": "stream",
     "text": [
      "How do you feel? i'm sad\n"
     ]
    }
   ],
   "source": [
    "feeling = input(\"How do you feel? \")"
   ]
  },
  {
   "cell_type": "code",
   "execution_count": 78,
   "metadata": {},
   "outputs": [
    {
     "name": "stdout",
     "output_type": "stream",
     "text": [
      "try some exercise!\n"
     ]
    }
   ],
   "source": [
    "if (\"sad\" in feeling) or (feeling.endswith(\"!?\")):\n",
    "    print(\"try some exercise!\")\n",
    "elif (\"happy\" in feeling) or (feeling.endswith(\"!\")):\n",
    "    print(\"try relaxing\")\n",
    "else:\n",
    "    print(\"not possible to offer advice\")"
   ]
  },
  {
   "cell_type": "code",
   "execution_count": null,
   "metadata": {},
   "outputs": [],
   "source": []
  }
 ],
 "metadata": {
  "kernelspec": {
   "display_name": "Python 3 (ipykernel)",
   "language": "python",
   "name": "python3"
  },
  "language_info": {
   "codemirror_mode": {
    "name": "ipython",
    "version": 3
   },
   "file_extension": ".py",
   "mimetype": "text/x-python",
   "name": "python",
   "nbconvert_exporter": "python",
   "pygments_lexer": "ipython3",
   "version": "3.9.7"
  }
 },
 "nbformat": 4,
 "nbformat_minor": 4
}
