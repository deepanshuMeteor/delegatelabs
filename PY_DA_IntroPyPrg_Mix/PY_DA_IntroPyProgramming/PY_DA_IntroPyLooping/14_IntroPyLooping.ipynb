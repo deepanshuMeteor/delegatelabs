{
 "cells": [
  {
   "cell_type": "markdown",
   "metadata": {},
   "source": [
    "# Introduction to Python \n",
    "### Notes 1.1, Introduction to Looping \n",
    "---\n",
    "\n",
    "## Objectives\n",
    "\n",
    "---"
   ]
  },
  {
   "cell_type": "markdown",
   "metadata": {},
   "source": [
    "## Why loop?"
   ]
  },
  {
   "cell_type": "markdown",
   "metadata": {},
   "source": [
    "Often we want to repeat code until some condition fails, for example, we may want to repeatedly ask the user for input until they tell us to stop:"
   ]
  },
  {
   "cell_type": "code",
   "execution_count": 9,
   "metadata": {},
   "outputs": [
    {
     "name": "stdout",
     "output_type": "stream",
     "text": [
      "HR?60\n",
      "HR?70\n",
      "HR?80\n"
     ]
    }
   ],
   "source": [
    "measurements = []\n",
    "\n",
    "hr = float(input(\"HR?\"))\n",
    "measurements.append(hr)\n",
    "\n",
    "hr = float(input(\"HR?\"))\n",
    "measurements.append(hr)\n",
    "\n",
    "hr = float(input(\"HR?\"))\n",
    "measurements.append(hr)"
   ]
  },
  {
   "cell_type": "code",
   "execution_count": 3,
   "metadata": {},
   "outputs": [
    {
     "data": {
      "text/plain": [
       "[60.0, 70.0, 80.0]"
      ]
     },
     "execution_count": 3,
     "metadata": {},
     "output_type": "execute_result"
    }
   ],
   "source": [
    "measurements"
   ]
  },
  {
   "cell_type": "markdown",
   "metadata": {},
   "source": [
    "## How do I repeatedly ask the user for input?"
   ]
  },
  {
   "cell_type": "markdown",
   "metadata": {},
   "source": [
    "A `while` loop repeats a block of code until some condition is false. \n",
    "\n",
    "`while ...condition....:`\n",
    "\n",
    "However when dealing with user input, the condition may occur after we have taken the input, and so we need to stop the loop *within* the code. \n",
    "\n",
    "\n",
    "`while True` -- read as \"repeat forever\", or: continue looping until you're stopped from within. "
   ]
  },
  {
   "cell_type": "code",
   "execution_count": 7,
   "metadata": {},
   "outputs": [
    {
     "name": "stdout",
     "output_type": "stream",
     "text": [
      "HR?60\n",
      "HR?70\n",
      "HR?81\n",
      "HR?0\n"
     ]
    }
   ],
   "source": [
    "measurements = []\n",
    "\n",
    "# repeat\n",
    "while True:\n",
    "    # asking user for HR\n",
    "    hr = float(input(\"HR?\"))\n",
    "\n",
    "    # if the hr is invalid, we stop \n",
    "    if hr == 0:\n",
    "        break # stop\n",
    "    else:\n",
    "        measurements.append(hr) # if its valid, append to list\n",
    "    "
   ]
  },
  {
   "cell_type": "code",
   "execution_count": 8,
   "metadata": {},
   "outputs": [
    {
     "data": {
      "text/plain": [
       "[60.0, 70.0, 81.0]"
      ]
     },
     "execution_count": 8,
     "metadata": {},
     "output_type": "execute_result"
    }
   ],
   "source": [
    "measurements"
   ]
  },
  {
   "cell_type": "markdown",
   "metadata": {},
   "source": [
    "... on the whole, the `while` is quite rare. Most of the reason you loop is to analyse a dataset. "
   ]
  },
  {
   "cell_type": "markdown",
   "metadata": {},
   "source": [
    "## How do I loop to analyse a dataset?"
   ]
  },
  {
   "cell_type": "markdown",
   "metadata": {},
   "source": [
    "When analysing a dataset we almost always wish to repeat a body of code for every element in that set. \n",
    "\n",
    "A `for` loop extracts an element at a time, allows you to label that element, and then express an operation on it. \n",
    "\n",
    "\n",
    "```python\n",
    "for LABEL in dataset:\n",
    "    run_code1_on(LABEL)\n",
    "    run_code2_on(LABEL)\n",
    "```"
   ]
  },
  {
   "cell_type": "code",
   "execution_count": 10,
   "metadata": {},
   "outputs": [
    {
     "data": {
      "text/plain": [
       "[60.0, 70.0, 80.0]"
      ]
     },
     "execution_count": 10,
     "metadata": {},
     "output_type": "execute_result"
    }
   ],
   "source": [
    "measurements"
   ]
  },
  {
   "cell_type": "code",
   "execution_count": 13,
   "metadata": {},
   "outputs": [
    {
     "name": "stdout",
     "output_type": "stream",
     "text": [
      "We measured:  60.0 bpm\n",
      "We measured:  70.0 bpm\n",
      "We measured:  80.0 bpm\n"
     ]
    }
   ],
   "source": [
    "for hr in measurements:\n",
    "    print(\"We measured: \", hr, \"bpm\")"
   ]
  },
  {
   "cell_type": "markdown",
   "metadata": {},
   "source": [
    "A `for` loop repeats its code body until it reachs the end of the dataset.\n",
    "\n",
    "( Compare with a `while` which repeats until some condtion tells it to stop ). "
   ]
  },
  {
   "cell_type": "markdown",
   "metadata": {},
   "source": [
    "## What types of loop are there in python?"
   ]
  },
  {
   "cell_type": "markdown",
   "metadata": {},
   "source": [
    "* `while` \n",
    "    * repeat until some condition is `False`\n",
    "    * or you hit `break`\n",
    "* `for` \n",
    "    * repeat until the end of some dataset"
   ]
  },
  {
   "cell_type": "markdown",
   "metadata": {},
   "source": [
    "## Exercise (15 min)\n",
    "\n",
    "Your goal in this exercise is to simualte tracking health data for a user, and provide them with a custom health warning message if there are any issues with their health data. \n",
    "\n",
    "In this exercise we will interactively ask the user for multiple measurements of their `HR` and `BP` then respond with a message for each. \n",
    "\n",
    "#### Part 1\n",
    "```python\n",
    "hr_readings = []\n",
    "bp_readings = []\n",
    "\n",
    "while True:\n",
    "    hr = float(input(\"HR?\"))\n",
    "\n",
    "    if hr == 0:\n",
    "        break\n",
    "    else:\n",
    "        hr_readings.append(hr)\n",
    "```\n",
    "\n",
    "* Start with the `while` loop above and modify to keep track of `blood_pressure`\n",
    "    * `.append()` a bp reading to the `bp_readings`\n",
    "    * modify the stopping condition to check if *either* `hr` or `bp` is `0`\n",
    "\n",
    "\n",
    "#### Part 2\n",
    "\n",
    "```python\n",
    "for hr in hr_readings:\n",
    "    print(\"We measured: \", hr, \"bpm\")\n",
    "```\n",
    "    \n",
    "* Start with the `for` loop above and add an `if, else` inside to check that the `hr` reading is safe\n",
    "* Add a second loop, afterwards, to check `bp`\n",
    "    * HINT: copy/paste / change `hr_readings`"
   ]
  },
  {
   "cell_type": "markdown",
   "metadata": {},
   "source": [
    "# Part 2: Analysing Datasets with `for`"
   ]
  },
  {
   "cell_type": "markdown",
   "metadata": {},
   "source": [
    "When using the `for` loop we encouter the same kind of problems over and over again:\n",
    "\n",
    "* looping over multiple collections\n",
    "    * `zip()`\n",
    "* looping over a range of numbers\n",
    "    * `range()`\n",
    "* looping over a collection *and requring* the index of each element\n",
    "    * `enumerate()`\n"
   ]
  },
  {
   "cell_type": "markdown",
   "metadata": {},
   "source": [
    "## How do I loop over multiple collections?"
   ]
  },
  {
   "cell_type": "markdown",
   "metadata": {},
   "source": [
    "When using a `for` loop you can only loop over *one* dataset. \n",
    "\n",
    "However, you can combine multiple datasets into one, using `zip()`."
   ]
  },
  {
   "cell_type": "code",
   "execution_count": 21,
   "metadata": {},
   "outputs": [],
   "source": [
    "hrs = [60, 70, 80]\n",
    "bps = [100, 200, 250]"
   ]
  },
  {
   "cell_type": "code",
   "execution_count": 23,
   "metadata": {},
   "outputs": [
    {
     "data": {
      "text/plain": [
       "[(60, 100), (70, 200), (80, 250)]"
      ]
     },
     "execution_count": 23,
     "metadata": {},
     "output_type": "execute_result"
    }
   ],
   "source": [
    "bundled = list(zip(hrs, bps))\n",
    "bundled"
   ]
  },
  {
   "cell_type": "markdown",
   "metadata": {},
   "source": [
    "Note here that each element of `bundled` has two entires... ( `bundled` is one list )."
   ]
  },
  {
   "cell_type": "code",
   "execution_count": 27,
   "metadata": {},
   "outputs": [
    {
     "data": {
      "text/plain": [
       "(60, 100)"
      ]
     },
     "execution_count": 27,
     "metadata": {},
     "output_type": "execute_result"
    }
   ],
   "source": [
    "bundled[0]"
   ]
  },
  {
   "cell_type": "code",
   "execution_count": 20,
   "metadata": {},
   "outputs": [
    {
     "name": "stdout",
     "output_type": "stream",
     "text": [
      "60 100\n",
      "70 200\n",
      "80 250\n"
     ]
    }
   ],
   "source": [
    "for hr, bp in zip(hrs, bps):\n",
    "    print(hr, bp)"
   ]
  },
  {
   "cell_type": "markdown",
   "metadata": {},
   "source": [
    "...in sum, you can use `zip()` to loop over multiple lists at once. "
   ]
  },
  {
   "cell_type": "code",
   "execution_count": 29,
   "metadata": {},
   "outputs": [
    {
     "name": "stdout",
     "output_type": "stream",
     "text": [
      "We measured:  60 bpm\n",
      "We measured:  100 mmHg\n",
      "OK\n",
      "\n",
      "We measured:  70 bpm\n",
      "We measured:  200 mmHg\n",
      "OK\n",
      "\n",
      "We measured:  80 bpm\n",
      "We measured:  250 mmHg\n",
      "WARNING\n",
      "\n"
     ]
    }
   ],
   "source": [
    "for hr, bp in zip(hrs, bps):\n",
    "    print(\"We measured: \", hr, \"bpm\")\n",
    "    print(\"We measured: \", bp, \"mmHg\")\n",
    "    \n",
    "    if (hr > 200) or (bp > 200):\n",
    "        print(\"WARNING\")\n",
    "    else:\n",
    "        print(\"OK\")\n",
    "        \n",
    "    print() # prints an empty line"
   ]
  },
  {
   "cell_type": "markdown",
   "metadata": {},
   "source": [
    "## How do I loop over a range of numbers?"
   ]
  },
  {
   "cell_type": "markdown",
   "metadata": {},
   "source": [
    "`range` will produce numbers in the range `START` to `END` seperated by `STEP`:\n",
    "\n",
    "`range( START, END, STEP) `\n",
    "\n",
    "You can loop over these numbers. "
   ]
  },
  {
   "cell_type": "code",
   "execution_count": 31,
   "metadata": {
    "scrolled": true
   },
   "outputs": [
    {
     "data": {
      "text/plain": [
       "[0, 20, 40, 60, 80]"
      ]
     },
     "execution_count": 31,
     "metadata": {},
     "output_type": "execute_result"
    }
   ],
   "source": [
    "list(range(0, 100, 20))"
   ]
  },
  {
   "cell_type": "code",
   "execution_count": 30,
   "metadata": {},
   "outputs": [
    {
     "name": "stdout",
     "output_type": "stream",
     "text": [
      "0\n",
      "20\n",
      "40\n",
      "60\n",
      "80\n"
     ]
    }
   ],
   "source": [
    "for i in range(0, 100, 20):\n",
    "    print(i)"
   ]
  },
  {
   "cell_type": "markdown",
   "metadata": {},
   "source": [
    "For example we may wish to build a dataset from a range by `append`ing in a loop:"
   ]
  },
  {
   "cell_type": "code",
   "execution_count": 33,
   "metadata": {},
   "outputs": [
    {
     "data": {
      "text/plain": [
       "[55.0, 64.0, 73.0, 82.0, 91.0, 100.0, 109.0, 118.0, 127.0, 136.0, 145.0, 154.0]"
      ]
     },
     "execution_count": 33,
     "metadata": {},
     "output_type": "execute_result"
    }
   ],
   "source": [
    "predicted_hr = []\n",
    "\n",
    "for hr in range(60, 180, 10):\n",
    "    predicted_hr.append(0.9 * hr + 1)\n",
    "    \n",
    "predicted_hr"
   ]
  },
  {
   "cell_type": "code",
   "execution_count": 35,
   "metadata": {},
   "outputs": [
    {
     "data": {
      "image/png": "[encoded data removed]",
      "text/plain": [
       "<Figure size 432x288 with 1 Axes>"
      ]
     },
     "metadata": {
      "needs_background": "light"
     },
     "output_type": "display_data"
    }
   ],
   "source": [
    "import seaborn as sns\n",
    "\n",
    "sns.scatterplot(range(60, 180, 10), predicted_hr);"
   ]
  },
  {
   "cell_type": "markdown",
   "metadata": {},
   "source": [
    "... eg., imagine we are visualizing the adjustments we need to make to a HR measuring device. "
   ]
  },
  {
   "cell_type": "markdown",
   "metadata": {},
   "source": [
    "## How do I loop with an index?"
   ]
  },
  {
   "cell_type": "code",
   "execution_count": 36,
   "metadata": {},
   "outputs": [
    {
     "name": "stdout",
     "output_type": "stream",
     "text": [
      "70.0\n",
      "50.0\n"
     ]
    }
   ],
   "source": [
    "for hr in hr_readings:\n",
    "    print(hr)"
   ]
  },
  {
   "cell_type": "code",
   "execution_count": 40,
   "metadata": {
    "scrolled": true
   },
   "outputs": [
    {
     "name": "stdout",
     "output_type": "stream",
     "text": [
      "Reading 1 was 70.0 bpm\n",
      "Reading 2 was 50.0 bpm\n"
     ]
    }
   ],
   "source": [
    "for i, hr in enumerate(hr_readings):\n",
    "    print(f\"Reading {i + 1} was {hr} bpm\")"
   ]
  },
  {
   "cell_type": "markdown",
   "metadata": {},
   "source": [
    "## What more should I be aware of with looping in python?"
   ]
  },
  {
   "cell_type": "markdown",
   "metadata": {},
   "source": [
    "The basic `for` loop can do almost everything you need. But, as above, helpers like `zip()`, `range()`, `enumerate()` exist to make looping easier. \n",
    "\n",
    "There is also:\n",
    "* `sorted()`\n",
    "* `reversed()`\n",
    "* ... \n",
    "\n",
    "For this course we are aiming to basic looping patterns, but these are worth further study. "
   ]
  },
  {
   "cell_type": "code",
   "execution_count": null,
   "metadata": {},
   "outputs": [],
   "source": []
  }
 ],
 "metadata": {
  "kernelspec": {
   "display_name": "Python 3 (ipykernel)",
   "language": "python",
   "name": "python3"
  },
  "language_info": {
   "codemirror_mode": {
    "name": "ipython",
    "version": 3
   },
   "file_extension": ".py",
   "mimetype": "text/x-python",
   "name": "python",
   "nbconvert_exporter": "python",
   "pygments_lexer": "ipython3",
   "version": "3.9.7"
  }
 },
 "nbformat": 4,
 "nbformat_minor": 4
}
