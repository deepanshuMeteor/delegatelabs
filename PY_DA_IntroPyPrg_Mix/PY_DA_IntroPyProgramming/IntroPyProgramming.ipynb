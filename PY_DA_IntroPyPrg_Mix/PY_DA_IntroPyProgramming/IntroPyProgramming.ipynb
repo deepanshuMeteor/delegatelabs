{
 "cells": [
  {
   "cell_type": "code",
   "execution_count": 3,
   "metadata": {},
   "outputs": [
    {
     "data": {
      "application/javascript": [
       "$.getScript('https://kmahelona.github.io/ipython_notebook_goodies/ipython_notebook_toc.js')\n"
      ],
      "text/plain": [
       "<IPython.core.display.Javascript object>"
      ]
     },
     "metadata": {},
     "output_type": "display_data"
    }
   ],
   "source": [
    "%%javascript\n",
    "$.getScript('https://kmahelona.github.io/ipython_notebook_goodies/ipython_notebook_toc.js')"
   ]
  },
  {
   "cell_type": "markdown",
   "metadata": {},
   "source": [
    "<h1 id=\"tocheading\">Table of Contents</h1>\n",
    "<div id=\"toc\"></div>"
   ]
  },
  {
   "cell_type": "markdown",
   "metadata": {},
   "source": [
    "# Introduction to Python \n",
    "### Notes 1.1, Introduction to Programming with Python\n",
    "\n",
    "---\n",
    "\n",
    "## Objectives\n",
    "\n",
    "---"
   ]
  },
  {
   "cell_type": "markdown",
   "metadata": {},
   "source": [
    "# Part 1: Using Python"
   ]
  },
  {
   "cell_type": "markdown",
   "metadata": {},
   "source": [
    "## What is Python?"
   ]
  },
  {
   "cell_type": "markdown",
   "metadata": {},
   "source": [
    "Python is programming language. Programming languages are a general \"command language\" for machines which can, in principle, command them to do whatever you need. \n",
    "\n",
    "Most  aren't specialized to any particular use case. \n",
    "\n",
    "Educational use of the langauge was a major initial goal. So the *syntax* is design to read *easily*. "
   ]
  },
  {
   "cell_type": "markdown",
   "metadata": {},
   "source": [
    "## Why should I use Python?"
   ]
  },
  {
   "cell_type": "markdown",
   "metadata": {},
   "source": [
    "Easier than other languages to \"get started\". \n",
    "\n",
    "Python has a *linear* learning curve. For every week spent learning it, you get \"one week of skill\". But with other languages, it can easily take 6 months before you understand a basic program. \n",
    "\n",
    "Python is *free* and open source. Free in two sense: it doesn't cost any more, and you free to use it however you wish. \n",
    "\n",
    "Python is also either the most popular language in the world, or nearly so. And it is therefore receiving a lot of work, attention, support, etc.\n",
    "\n",
    "In particular, python is where many new techniques, libraries, methods (etc.) are being provided. Eg., much of machine learning, data science, new forms of data analysis -- are being first developed in python. "
   ]
  },
  {
   "cell_type": "markdown",
   "metadata": {},
   "source": [
    "## What are python's limitations?"
   ]
  },
  {
   "cell_type": "markdown",
   "metadata": {},
   "source": [
    "Python is very very very slow. "
   ]
  },
  {
   "cell_type": "markdown",
   "metadata": {},
   "source": [
    "## How do we overcome python's limitations?"
   ]
  },
  {
   "cell_type": "markdown",
   "metadata": {},
   "source": [
    "Many \"libraries\" which are *available* within python programs, are not *written in python*. They are written in other, much more performant languages, like `C` and `Fortran`. "
   ]
  },
  {
   "cell_type": "markdown",
   "metadata": {},
   "source": [
    "For example there is a fast numerical processing library called, `numpy` which you can `import` from python:"
   ]
  },
  {
   "cell_type": "code",
   "execution_count": 1,
   "metadata": {},
   "outputs": [],
   "source": [
    "import numpy"
   ]
  },
  {
   "cell_type": "markdown",
   "metadata": {},
   "source": [
    "*but* this is mostly written in fortran (, C) so when you say, `.sum()`, no python code is running. "
   ]
  },
  {
   "cell_type": "code",
   "execution_count": 3,
   "metadata": {},
   "outputs": [
    {
     "data": {
      "text/plain": [
       "10.039256859871557"
      ]
     },
     "execution_count": 3,
     "metadata": {},
     "output_type": "execute_result"
    }
   ],
   "source": [
    "numpy.random.normal(10, 1, 100).mean()"
   ]
  },
  {
   "cell_type": "markdown",
   "metadata": {},
   "source": [
    "here we take the mean of `100` random numbers which are generated, approximately, so their mean is `10` and varience is `1`. "
   ]
  },
  {
   "cell_type": "markdown",
   "metadata": {},
   "source": [
    "## How do I use python for data analysis?"
   ]
  },
  {
   "cell_type": "markdown",
   "metadata": {},
   "source": [
    "Using the fast data anlysis libraries.\n",
    "\n",
    "* numpy <- mostly for data scientists\n",
    "    * fast arrays of data\n",
    "    * fast numerical computing\n",
    "    * eg., generate and sum some random numbers\n",
    "* pandas <- KEY for everyone\n",
    "    * fast tables\n",
    "    * eg., do a groupby\n",
    "* seaborn <- KEY for everyone\n",
    "    * visualization\n",
    "    * eg., plot a scatter plot\n",
    "* sklearn <- mostly for data scientists\n",
    "    * statistical learning library\n",
    "    * e.g., Linear Regression\n"
   ]
  },
  {
   "cell_type": "markdown",
   "metadata": {},
   "source": [
    "## What tools do I use for exporation & analysis?"
   ]
  },
  {
   "cell_type": "markdown",
   "metadata": {},
   "source": [
    "Jupyter notebook provides a *documentation* and *visualization* **driven** \"coding experience\".\n",
    "\n",
    "Traditional programming is done in code editors where the code is the focus; there are no annotations/visualizations present within the code.\n",
    "\n",
    "In a notebook, the code is the *least* important aspect. It's just there to generate the data/visuals. \n",
    "\n",
    "Typically an exploratory project will need (10 to 200) lines of code. Software engineering projects use c. 1 million lines. "
   ]
  },
  {
   "cell_type": "markdown",
   "metadata": {},
   "source": [
    "## How do I run python code (like a software engineer)?"
   ]
  },
  {
   "cell_type": "markdown",
   "metadata": {},
   "source": [
    "Create a python script, a file which ends in `.py`\n",
    "\n",
    "eg., \n",
    "<pre><small>11b_script.py</small></pre>\n",
    "\n",
    "---\n",
    "\n",
    "```python\n",
    "print(\"My name is Michael\")\n",
    "```\n",
    "---\n",
    "\n",
    "\n",
    "Run this file, from the command line, with the `python` program.\n",
    "\n",
    "```bash\n",
    "\n",
    "(base) michael@mjb-mbpro % python script.py \n",
    "My name is Michael\n",
    "\n",
    "```"
   ]
  },
  {
   "cell_type": "markdown",
   "metadata": {},
   "source": [
    "On windows, \n",
    "* Start Menu > \"command prompt\" > \n",
    "* type \"cd C:\\Users\\Admin\\Documents\"\n",
    "    * this \"changes directory\" to this folder\n",
    "* type \"python script.py\" ENTER\n"
   ]
  },
  {
   "cell_type": "markdown",
   "metadata": {},
   "source": [
    "## How does `python` run python code?"
   ]
  },
  {
   "cell_type": "markdown",
   "metadata": {},
   "source": [
    "The python program reads a python file and *interprets* each command line-by-line, and converts it into instructions that your machine can perform.\n",
    "\n",
    "eg., `print(\"Hi\")`\n",
    "\n",
    "Python will:\n",
    "\n",
    "* ask the machine to create the text \"Hi\"\n",
    "* send the \"Hi\" text to a procedure called \"print()\"\n",
    "* \"print()\" will ask the graphics system to output \"Hi\" to your screen\n",
    "\n",
    "\n"
   ]
  },
  {
   "cell_type": "markdown",
   "metadata": {},
   "source": [
    "## How does jupyter run python code?"
   ]
  },
  {
   "cell_type": "markdown",
   "metadata": {},
   "source": [
    "Jupyter notebook will feed your code into `python` in the background, for you, and include the output in the notebook. "
   ]
  },
  {
   "cell_type": "code",
   "execution_count": 4,
   "metadata": {},
   "outputs": [
    {
     "name": "stdout",
     "output_type": "stream",
     "text": [
      "Hi\n"
     ]
    }
   ],
   "source": [
    "print(\"Hi\")"
   ]
  },
  {
   "cell_type": "markdown",
   "metadata": {},
   "source": [
    "# Part 2: Python Basics"
   ]
  },
  {
   "cell_type": "markdown",
   "metadata": {},
   "source": [
    "## How do I assign a variable?"
   ]
  },
  {
   "cell_type": "code",
   "execution_count": 5,
   "metadata": {},
   "outputs": [],
   "source": [
    "name = \"Michael\"                      # str text\n",
    "age = 31                              # int whole-number\n",
    "height = 1.81                         # float measurement\n",
    "is_tired = True                       # bool yes/no\n",
    "hobbies = [\"Arguing\", \"Tutoring\"]     # list a-dataset"
   ]
  },
  {
   "cell_type": "markdown",
   "metadata": {},
   "source": [
    "## How do I display the value of variables on my screen?"
   ]
  },
  {
   "cell_type": "code",
   "execution_count": 6,
   "metadata": {},
   "outputs": [
    {
     "name": "stdout",
     "output_type": "stream",
     "text": [
      "Michael\n"
     ]
    }
   ],
   "source": [
    "print(name)"
   ]
  },
  {
   "cell_type": "code",
   "execution_count": 7,
   "metadata": {},
   "outputs": [
    {
     "name": "stdout",
     "output_type": "stream",
     "text": [
      "['Arguing', 'Tutoring']\n"
     ]
    }
   ],
   "source": [
    "print(hobbies)"
   ]
  },
  {
   "cell_type": "markdown",
   "metadata": {},
   "source": [
    "## How do I display the value of variables in a *formatted* way?"
   ]
  },
  {
   "cell_type": "code",
   "execution_count": 32,
   "metadata": {
    "scrolled": true
   },
   "outputs": [
    {
     "name": "stdout",
     "output_type": "stream",
     "text": [
      "Michael is  31.0 years old and  1.8 m (181.0 cm)\n"
     ]
    }
   ],
   "source": [
    "print(f\"{name} is {age : .1f} years old and {height : .1f} m ({height * 100} cm)\")"
   ]
  },
  {
   "cell_type": "markdown",
   "metadata": {},
   "source": [
    "The `f` symbol before a string (text) allows to include values to be formatted within the string. You use `{}` to include them, and an optional, `:` to specify their format. \n",
    "\n",
    "` .1f`  means \"a floating point number with one decimal place\""
   ]
  },
  {
   "cell_type": "markdown",
   "metadata": {},
   "source": [
    "## How do I use jupyter to display the values?"
   ]
  },
  {
   "cell_type": "code",
   "execution_count": 8,
   "metadata": {},
   "outputs": [
    {
     "data": {
      "text/plain": [
       "31"
      ]
     },
     "execution_count": 8,
     "metadata": {},
     "output_type": "execute_result"
    }
   ],
   "source": [
    "age"
   ]
  },
  {
   "cell_type": "markdown",
   "metadata": {},
   "source": [
    "Jupyter will automatically `print()` the last line of any cell. \n",
    "\n",
    "If you don't want it to do that, you can end the last line with `;`."
   ]
  },
  {
   "cell_type": "code",
   "execution_count": 10,
   "metadata": {},
   "outputs": [],
   "source": [
    "name;"
   ]
  },
  {
   "cell_type": "markdown",
   "metadata": {},
   "source": [
    "## How do use a function?"
   ]
  },
  {
   "cell_type": "markdown",
   "metadata": {},
   "source": [
    "Here we define a list of prices:"
   ]
  },
  {
   "cell_type": "code",
   "execution_count": null,
   "metadata": {},
   "outputs": [],
   "source": [
    "prices = [1.12, 2.34, 4.56]"
   ]
  },
  {
   "cell_type": "markdown",
   "metadata": {},
   "source": [
    "We use the name of a function, followed by parentheses (`()`) to run it and pass data into it:"
   ]
  },
  {
   "cell_type": "code",
   "execution_count": 12,
   "metadata": {},
   "outputs": [
    {
     "data": {
      "text/plain": [
       "8.02"
      ]
     },
     "execution_count": 12,
     "metadata": {},
     "output_type": "execute_result"
    }
   ],
   "source": [
    "sum(prices)"
   ]
  },
  {
   "cell_type": "markdown",
   "metadata": {},
   "source": [
    "## How do I import a library?"
   ]
  },
  {
   "cell_type": "code",
   "execution_count": 13,
   "metadata": {},
   "outputs": [],
   "source": [
    "import statistics"
   ]
  },
  {
   "cell_type": "markdown",
   "metadata": {},
   "source": [
    "## How do I use the functions within a library?"
   ]
  },
  {
   "cell_type": "markdown",
   "metadata": {},
   "source": [
    "Answer: `.`"
   ]
  },
  {
   "cell_type": "code",
   "execution_count": 14,
   "metadata": {},
   "outputs": [
    {
     "data": {
      "text/plain": [
       "2.6733333333333333"
      ]
     },
     "execution_count": 14,
     "metadata": {},
     "output_type": "execute_result"
    }
   ],
   "source": [
    "statistics.mean(prices)"
   ]
  },
  {
   "cell_type": "markdown",
   "metadata": {},
   "source": [
    "## How do I use a shorter library name?"
   ]
  },
  {
   "cell_type": "code",
   "execution_count": 15,
   "metadata": {},
   "outputs": [],
   "source": [
    "import statistics as s"
   ]
  },
  {
   "cell_type": "code",
   "execution_count": 17,
   "metadata": {},
   "outputs": [
    {
     "data": {
      "text/plain": [
       "2.6733333333333333"
      ]
     },
     "execution_count": 17,
     "metadata": {},
     "output_type": "execute_result"
    }
   ],
   "source": [
    "s.mean(prices)"
   ]
  },
  {
   "cell_type": "markdown",
   "metadata": {},
   "source": [
    "## How do I get simple, interactive, input into my program?"
   ]
  },
  {
   "cell_type": "code",
   "execution_count": 18,
   "metadata": {},
   "outputs": [
    {
     "name": "stdout",
     "output_type": "stream",
     "text": [
      "How are you feeling? fine\n"
     ]
    }
   ],
   "source": [
    "answer = input(\"How are you feeling? \")"
   ]
  },
  {
   "cell_type": "code",
   "execution_count": 19,
   "metadata": {},
   "outputs": [
    {
     "data": {
      "text/plain": [
       "'fine'"
      ]
     },
     "execution_count": 19,
     "metadata": {},
     "output_type": "execute_result"
    }
   ],
   "source": [
    "answer"
   ]
  },
  {
   "cell_type": "markdown",
   "metadata": {},
   "source": [
    "## How do I open a file?"
   ]
  },
  {
   "cell_type": "code",
   "execution_count": 47,
   "metadata": {},
   "outputs": [
    {
     "name": "stdout",
     "output_type": "stream",
     "text": [
      "survived,pclass,sex,age,sibsp,parch,fare,embarked,class,who,adult_male,deck,embark_town,alive,alone\n",
      "\n"
     ]
    }
   ],
   "source": [
    "file = open('datasets/titanic.csv')\n",
    "\n",
    "print(file.readline())\n",
    "\n",
    "file.close()"
   ]
  },
  {
   "cell_type": "markdown",
   "metadata": {},
   "source": [
    "## What does a complete python program look-like?"
   ]
  },
  {
   "cell_type": "markdown",
   "metadata": {},
   "source": [
    "Consider the follow program which analyses a film dataset, and reports on each film:"
   ]
  },
  {
   "cell_type": "code",
   "execution_count": 34,
   "metadata": {},
   "outputs": [
    {
     "name": "stdout",
     "output_type": "stream",
     "text": [
      "Annie Hall\n",
      "This film was made in 1979\n",
      "this is a long film!\n",
      "\n",
      "American Beauty\n",
      "This film was made in 1999\n",
      "this is a long film!\n",
      "\n",
      "The Matrix\n",
      "This film was made in 1999\n",
      "\n",
      "The average film length in this dataset is:  116.33 minutes\n"
     ]
    },
    {
     "data": {
      "image/png": "[encoded data removed]",
      "text/plain": [
       "<Figure size 432x288 with 1 Axes>"
      ]
     },
     "metadata": {
      "needs_background": "light"
     },
     "output_type": "display_data"
    }
   ],
   "source": [
    "# importing libraries\n",
    "import seaborn as sns\n",
    "\n",
    "# establishing a dataset\n",
    "films = [\n",
    "    (1, \"Annie Hall\", 120, \"Romantic\", 1979),\n",
    "    (2, \"American Beauty\", 130, \"Black Comedy\", 1999),\n",
    "    (3, \"The Matrix\", 99, \"Action\", 1999),\n",
    "]\n",
    "\n",
    "# processing the dataset\n",
    "total = 0\n",
    "for film in films:\n",
    "    total += film[2]\n",
    "        \n",
    "    print(film[1])\n",
    "    print(f\"This film was made in {film[-1]}\")\n",
    "    \n",
    "    if film[2] > 100: \n",
    "        print(\"this is a long film!\")\n",
    "    print()\n",
    "\n",
    "average = total / len(films)\n",
    "\n",
    "# reporting\n",
    "print(f\"The average film length in this dataset is: {average : .2f} minutes\")\n",
    "\n",
    "# visualizing, using the library\n",
    "sns.scatterplot([1979, 1999, 1999], [120, 130, 99]);"
   ]
  },
  {
   "cell_type": "markdown",
   "metadata": {},
   "source": [
    "#### Reflecting on this program"
   ]
  },
  {
   "cell_type": "markdown",
   "metadata": {},
   "source": [
    "In this program we can see:\n",
    "* a loop with `for`\n",
    "* decision-making with `if`\n",
    "* importing a library with `import`\n",
    "* datasets with lists `[]`\n",
    "* comparisons `>`\n",
    "* numerical operations `+=`\n",
    "* basic functions `len()`"
   ]
  },
  {
   "cell_type": "markdown",
   "metadata": {},
   "source": [
    "## Exercise (15 min)\n",
    "* review this notebook \n",
    "* in your own notebook:\n",
    "    * define a set of variables which describes yourself\n",
    "        * name, age, location, etc.\n",
    "    * use `input()` to get a hobby\n",
    "    * use `print()` to output this information in a report\n",
    "    * try using `f\"\"` to display your age (etc.) with \"1 decimal place\"\n",
    "        * `{ value :.1f}` means format with 1 decimal place\n",
    "    * create a `hr` list to record your average heart rate readings (imagine)\n",
    "        * import statistics and compute: mean, mode, median\n",
    "* you may wish to use one notebook for all your exercises, \n",
    "    * in which case consider adding a heading for every exercise"
   ]
  }
 ],
 "metadata": {
  "kernelspec": {
   "display_name": "Python 3 (ipykernel)",
   "language": "python",
   "name": "python3"
  },
  "language_info": {
   "codemirror_mode": {
    "name": "ipython",
    "version": 3
   },
   "file_extension": ".py",
   "mimetype": "text/x-python",
   "name": "python",
   "nbconvert_exporter": "python",
   "pygments_lexer": "ipython3",
   "version": "3.9.7"
  }
 },
 "nbformat": 4,
 "nbformat_minor": 4
}
